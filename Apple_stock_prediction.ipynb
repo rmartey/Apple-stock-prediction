{
  "nbformat": 4,
  "nbformat_minor": 0,
  "metadata": {
    "colab": {
      "name": "Apple_stock_prediction.ipynb",
      "provenance": [],
      "collapsed_sections": [],
      "toc_visible": true,
      "authorship_tag": "ABX9TyOwBHXWHL1PdgmGJEx98g54",
      "include_colab_link": true
    },
    "kernelspec": {
      "name": "python3",
      "display_name": "Python 3"
    },
    "language_info": {
      "name": "python"
    }
  },
  "cells": [
    {
      "cell_type": "markdown",
      "metadata": {
        "id": "view-in-github",
        "colab_type": "text"
      },
      "source": [
        "<a href=\"https://colab.research.google.com/github/rmartey/Apple-stock-prediction/blob/main/Apple_stock_prediction.ipynb\" target=\"_parent\"><img src=\"https://colab.research.google.com/assets/colab-badge.svg\" alt=\"Open In Colab\"/></a>"
      ]
    },
    {
      "cell_type": "code",
      "execution_count": 2,
      "metadata": {
        "id": "R-n47DTPnR2I"
      },
      "outputs": [],
      "source": [
        "#Importing the libraries\n",
        "import math\n",
        "import numpy as np\n",
        "import pandas as pd\n",
        "from sklearn.preprocessing import MinMaxScaler\n",
        "from keras.models import Sequential \n",
        "from keras.layers import Dense, LSTM\n",
        "import matplotlib.pyplot as plt\n",
        "plt.style.use('fivethirtyeight')"
      ]
    },
    {
      "cell_type": "code",
      "source": [
        "#get the stock quote\n",
        "df =pd.read_csv(\"https://query1.finance.yahoo.com/v7/finance/download/AAPL?period1=1167955200&period2=1651708800&interval=1d&events=history&includeAdjustedClose=true\",index_col=\"Date\",parse_dates =True,infer_datetime_format=True)\n",
        "df"
      ],
      "metadata": {
        "colab": {
          "base_uri": "https://localhost:8080/",
          "height": 455
        },
        "id": "2D9iiHUAoiH4",
        "outputId": "d279f5fb-5840-479d-b272-f79bdb697f3e"
      },
      "execution_count": 3,
      "outputs": [
        {
          "output_type": "execute_result",
          "data": {
            "text/plain": [
              "                  Open        High         Low       Close   Adj Close  \\\n",
              "Date                                                                     \n",
              "2007-01-05    3.063214    3.078571    3.014286    3.037500    2.597116   \n",
              "2007-01-08    3.070000    3.090357    3.045714    3.052500    2.609942   \n",
              "2007-01-09    3.087500    3.320714    3.041071    3.306071    2.826750   \n",
              "2007-01-10    3.383929    3.492857    3.337500    3.464286    2.962027   \n",
              "2007-01-11    3.426429    3.456429    3.396429    3.421429    2.925383   \n",
              "...                ...         ...         ...         ...         ...   \n",
              "2022-04-28  159.250000  164.520004  158.929993  163.639999  163.399918   \n",
              "2022-04-29  161.839996  166.199997  157.250000  157.649994  157.418701   \n",
              "2022-05-02  156.710007  158.229996  153.270004  157.960007  157.728256   \n",
              "2022-05-03  158.149994  160.710007  156.320007  159.479996  159.246017   \n",
              "2022-05-04  159.669998  166.479996  159.259995  166.020004  165.776428   \n",
              "\n",
              "                Volume  \n",
              "Date                    \n",
              "2007-01-05   834741600  \n",
              "2007-01-08   797106800  \n",
              "2007-01-09  3349298400  \n",
              "2007-01-10  2952880000  \n",
              "2007-01-11  1440252800  \n",
              "...                ...  \n",
              "2022-04-28   130216800  \n",
              "2022-04-29   131587100  \n",
              "2022-05-02   123055300  \n",
              "2022-05-03    88966500  \n",
              "2022-05-04   108256500  \n",
              "\n",
              "[3860 rows x 6 columns]"
            ],
            "text/html": [
              "\n",
              "  <div id=\"df-b41badb6-dabf-4cc7-8949-f7b68498b2d8\">\n",
              "    <div class=\"colab-df-container\">\n",
              "      <div>\n",
              "<style scoped>\n",
              "    .dataframe tbody tr th:only-of-type {\n",
              "        vertical-align: middle;\n",
              "    }\n",
              "\n",
              "    .dataframe tbody tr th {\n",
              "        vertical-align: top;\n",
              "    }\n",
              "\n",
              "    .dataframe thead th {\n",
              "        text-align: right;\n",
              "    }\n",
              "</style>\n",
              "<table border=\"1\" class=\"dataframe\">\n",
              "  <thead>\n",
              "    <tr style=\"text-align: right;\">\n",
              "      <th></th>\n",
              "      <th>Open</th>\n",
              "      <th>High</th>\n",
              "      <th>Low</th>\n",
              "      <th>Close</th>\n",
              "      <th>Adj Close</th>\n",
              "      <th>Volume</th>\n",
              "    </tr>\n",
              "    <tr>\n",
              "      <th>Date</th>\n",
              "      <th></th>\n",
              "      <th></th>\n",
              "      <th></th>\n",
              "      <th></th>\n",
              "      <th></th>\n",
              "      <th></th>\n",
              "    </tr>\n",
              "  </thead>\n",
              "  <tbody>\n",
              "    <tr>\n",
              "      <th>2007-01-05</th>\n",
              "      <td>3.063214</td>\n",
              "      <td>3.078571</td>\n",
              "      <td>3.014286</td>\n",
              "      <td>3.037500</td>\n",
              "      <td>2.597116</td>\n",
              "      <td>834741600</td>\n",
              "    </tr>\n",
              "    <tr>\n",
              "      <th>2007-01-08</th>\n",
              "      <td>3.070000</td>\n",
              "      <td>3.090357</td>\n",
              "      <td>3.045714</td>\n",
              "      <td>3.052500</td>\n",
              "      <td>2.609942</td>\n",
              "      <td>797106800</td>\n",
              "    </tr>\n",
              "    <tr>\n",
              "      <th>2007-01-09</th>\n",
              "      <td>3.087500</td>\n",
              "      <td>3.320714</td>\n",
              "      <td>3.041071</td>\n",
              "      <td>3.306071</td>\n",
              "      <td>2.826750</td>\n",
              "      <td>3349298400</td>\n",
              "    </tr>\n",
              "    <tr>\n",
              "      <th>2007-01-10</th>\n",
              "      <td>3.383929</td>\n",
              "      <td>3.492857</td>\n",
              "      <td>3.337500</td>\n",
              "      <td>3.464286</td>\n",
              "      <td>2.962027</td>\n",
              "      <td>2952880000</td>\n",
              "    </tr>\n",
              "    <tr>\n",
              "      <th>2007-01-11</th>\n",
              "      <td>3.426429</td>\n",
              "      <td>3.456429</td>\n",
              "      <td>3.396429</td>\n",
              "      <td>3.421429</td>\n",
              "      <td>2.925383</td>\n",
              "      <td>1440252800</td>\n",
              "    </tr>\n",
              "    <tr>\n",
              "      <th>...</th>\n",
              "      <td>...</td>\n",
              "      <td>...</td>\n",
              "      <td>...</td>\n",
              "      <td>...</td>\n",
              "      <td>...</td>\n",
              "      <td>...</td>\n",
              "    </tr>\n",
              "    <tr>\n",
              "      <th>2022-04-28</th>\n",
              "      <td>159.250000</td>\n",
              "      <td>164.520004</td>\n",
              "      <td>158.929993</td>\n",
              "      <td>163.639999</td>\n",
              "      <td>163.399918</td>\n",
              "      <td>130216800</td>\n",
              "    </tr>\n",
              "    <tr>\n",
              "      <th>2022-04-29</th>\n",
              "      <td>161.839996</td>\n",
              "      <td>166.199997</td>\n",
              "      <td>157.250000</td>\n",
              "      <td>157.649994</td>\n",
              "      <td>157.418701</td>\n",
              "      <td>131587100</td>\n",
              "    </tr>\n",
              "    <tr>\n",
              "      <th>2022-05-02</th>\n",
              "      <td>156.710007</td>\n",
              "      <td>158.229996</td>\n",
              "      <td>153.270004</td>\n",
              "      <td>157.960007</td>\n",
              "      <td>157.728256</td>\n",
              "      <td>123055300</td>\n",
              "    </tr>\n",
              "    <tr>\n",
              "      <th>2022-05-03</th>\n",
              "      <td>158.149994</td>\n",
              "      <td>160.710007</td>\n",
              "      <td>156.320007</td>\n",
              "      <td>159.479996</td>\n",
              "      <td>159.246017</td>\n",
              "      <td>88966500</td>\n",
              "    </tr>\n",
              "    <tr>\n",
              "      <th>2022-05-04</th>\n",
              "      <td>159.669998</td>\n",
              "      <td>166.479996</td>\n",
              "      <td>159.259995</td>\n",
              "      <td>166.020004</td>\n",
              "      <td>165.776428</td>\n",
              "      <td>108256500</td>\n",
              "    </tr>\n",
              "  </tbody>\n",
              "</table>\n",
              "<p>3860 rows × 6 columns</p>\n",
              "</div>\n",
              "      <button class=\"colab-df-convert\" onclick=\"convertToInteractive('df-b41badb6-dabf-4cc7-8949-f7b68498b2d8')\"\n",
              "              title=\"Convert this dataframe to an interactive table.\"\n",
              "              style=\"display:none;\">\n",
              "        \n",
              "  <svg xmlns=\"http://www.w3.org/2000/svg\" height=\"24px\"viewBox=\"0 0 24 24\"\n",
              "       width=\"24px\">\n",
              "    <path d=\"M0 0h24v24H0V0z\" fill=\"none\"/>\n",
              "    <path d=\"M18.56 5.44l.94 2.06.94-2.06 2.06-.94-2.06-.94-.94-2.06-.94 2.06-2.06.94zm-11 1L8.5 8.5l.94-2.06 2.06-.94-2.06-.94L8.5 2.5l-.94 2.06-2.06.94zm10 10l.94 2.06.94-2.06 2.06-.94-2.06-.94-.94-2.06-.94 2.06-2.06.94z\"/><path d=\"M17.41 7.96l-1.37-1.37c-.4-.4-.92-.59-1.43-.59-.52 0-1.04.2-1.43.59L10.3 9.45l-7.72 7.72c-.78.78-.78 2.05 0 2.83L4 21.41c.39.39.9.59 1.41.59.51 0 1.02-.2 1.41-.59l7.78-7.78 2.81-2.81c.8-.78.8-2.07 0-2.86zM5.41 20L4 18.59l7.72-7.72 1.47 1.35L5.41 20z\"/>\n",
              "  </svg>\n",
              "      </button>\n",
              "      \n",
              "  <style>\n",
              "    .colab-df-container {\n",
              "      display:flex;\n",
              "      flex-wrap:wrap;\n",
              "      gap: 12px;\n",
              "    }\n",
              "\n",
              "    .colab-df-convert {\n",
              "      background-color: #E8F0FE;\n",
              "      border: none;\n",
              "      border-radius: 50%;\n",
              "      cursor: pointer;\n",
              "      display: none;\n",
              "      fill: #1967D2;\n",
              "      height: 32px;\n",
              "      padding: 0 0 0 0;\n",
              "      width: 32px;\n",
              "    }\n",
              "\n",
              "    .colab-df-convert:hover {\n",
              "      background-color: #E2EBFA;\n",
              "      box-shadow: 0px 1px 2px rgba(60, 64, 67, 0.3), 0px 1px 3px 1px rgba(60, 64, 67, 0.15);\n",
              "      fill: #174EA6;\n",
              "    }\n",
              "\n",
              "    [theme=dark] .colab-df-convert {\n",
              "      background-color: #3B4455;\n",
              "      fill: #D2E3FC;\n",
              "    }\n",
              "\n",
              "    [theme=dark] .colab-df-convert:hover {\n",
              "      background-color: #434B5C;\n",
              "      box-shadow: 0px 1px 3px 1px rgba(0, 0, 0, 0.15);\n",
              "      filter: drop-shadow(0px 1px 2px rgba(0, 0, 0, 0.3));\n",
              "      fill: #FFFFFF;\n",
              "    }\n",
              "  </style>\n",
              "\n",
              "      <script>\n",
              "        const buttonEl =\n",
              "          document.querySelector('#df-b41badb6-dabf-4cc7-8949-f7b68498b2d8 button.colab-df-convert');\n",
              "        buttonEl.style.display =\n",
              "          google.colab.kernel.accessAllowed ? 'block' : 'none';\n",
              "\n",
              "        async function convertToInteractive(key) {\n",
              "          const element = document.querySelector('#df-b41badb6-dabf-4cc7-8949-f7b68498b2d8');\n",
              "          const dataTable =\n",
              "            await google.colab.kernel.invokeFunction('convertToInteractive',\n",
              "                                                     [key], {});\n",
              "          if (!dataTable) return;\n",
              "\n",
              "          const docLinkHtml = 'Like what you see? Visit the ' +\n",
              "            '<a target=\"_blank\" href=https://colab.research.google.com/notebooks/data_table.ipynb>data table notebook</a>'\n",
              "            + ' to learn more about interactive tables.';\n",
              "          element.innerHTML = '';\n",
              "          dataTable['output_type'] = 'display_data';\n",
              "          await google.colab.output.renderOutput(dataTable, element);\n",
              "          const docLink = document.createElement('div');\n",
              "          docLink.innerHTML = docLinkHtml;\n",
              "          element.appendChild(docLink);\n",
              "        }\n",
              "      </script>\n",
              "    </div>\n",
              "  </div>\n",
              "  "
            ]
          },
          "metadata": {},
          "execution_count": 3
        }
      ]
    },
    {
      "cell_type": "code",
      "source": [
        "#get the number of rows and columns in the data set\n",
        "df.shape"
      ],
      "metadata": {
        "colab": {
          "base_uri": "https://localhost:8080/"
        },
        "id": "QUpWKejbppen",
        "outputId": "a3000ed1-20de-4198-c199-bb2ff52b0602"
      },
      "execution_count": 4,
      "outputs": [
        {
          "output_type": "execute_result",
          "data": {
            "text/plain": [
              "(3860, 6)"
            ]
          },
          "metadata": {},
          "execution_count": 4
        }
      ]
    },
    {
      "cell_type": "code",
      "source": [
        "#visualize the closing price history\n",
        "plt.figure(figsize=(28,6))\n",
        "plt.title(\"Close price history\")\n",
        "plt.plot(df[\"Close\"])\n",
        "plt.xlabel(\"Date\", fontsize=18)\n",
        "plt.ylabel(\"Close price USD ($)\", fontsize=18)\n",
        "plt.show()"
      ],
      "metadata": {
        "colab": {
          "base_uri": "https://localhost:8080/",
          "height": 366
        },
        "id": "tOQ-nS_AwzZV",
        "outputId": "32de1a40-3f68-46fb-e797-47af43e5a785"
      },
      "execution_count": 5,
      "outputs": [
        {
          "output_type": "display_data",
          "data": {
            "text/plain": [
              "<Figure size 2016x432 with 1 Axes>"
            ],
            "image/png": "[encoded data removed]"
          },
          "metadata": {}
        }
      ]
    },
    {
      "cell_type": "code",
      "source": [
        "#create a new dataframe with only the close column\n",
        "data = df.filter([\"Close\"])\n",
        "#convert dataframe to a numpy array\n",
        "dataset = data.values\n",
        "#get the numbe of rows to train the model on\n",
        "training_data_len = math.ceil(len(dataset)*0.8)\n",
        "\n",
        "training_data_len\n"
      ],
      "metadata": {
        "colab": {
          "base_uri": "https://localhost:8080/"
        },
        "id": "QoXdX8PV9Kix",
        "outputId": "c03909ec-0bb6-4d21-eab0-cc1b15714cd7"
      },
      "execution_count": 6,
      "outputs": [
        {
          "output_type": "execute_result",
          "data": {
            "text/plain": [
              "3088"
            ]
          },
          "metadata": {},
          "execution_count": 6
        }
      ]
    },
    {
      "cell_type": "code",
      "source": [
        "#scale the data\n",
        "scaler = MinMaxScaler(feature_range=(0,1))\n",
        "scaled_data = scaler.fit_transform(dataset)\n",
        "scaled_data"
      ],
      "metadata": {
        "colab": {
          "base_uri": "https://localhost:8080/"
        },
        "id": "QUAWf0H-__7I",
        "outputId": "98b7048e-1f1c-4ed7-ba8c-bae0c4078878"
      },
      "execution_count": 7,
      "outputs": [
        {
          "output_type": "execute_result",
          "data": {
            "text/plain": [
              "array([[0.00136506],\n",
              "       [0.00144876],\n",
              "       [0.00286364],\n",
              "       ...,\n",
              "       [0.86580531],\n",
              "       [0.87428658],\n",
              "       [0.91077867]])"
            ]
          },
          "metadata": {},
          "execution_count": 7
        }
      ]
    },
    {
      "cell_type": "code",
      "source": [
        "#create the training data set\n",
        "#create the scaled training data set\n",
        "train_data = scaled_data[0:training_data_len,:]\n",
        "\n",
        "#split the data into x_train and y_train data sets\n",
        "x_train =[]\n",
        "y_train = []\n",
        "\n",
        "for i in range(60, len(train_data)):\n",
        "  x_train.append(train_data[i-60:i,0])\n",
        "  y_train.append(train_data[i,0])\n",
        "  if i<=61:\n",
        "    print(x_train)\n",
        "    print(y_train)\n",
        "    print()\n"
      ],
      "metadata": {
        "colab": {
          "base_uri": "https://localhost:8080/"
        },
        "id": "7ChF1X9QEC5K",
        "outputId": "04029b4c-cc8d-49b7-a4f7-6b0bb7f3049a"
      },
      "execution_count": 8,
      "outputs": [
        {
          "output_type": "stream",
          "name": "stdout",
          "text": [
            "[array([0.00136506, 0.00144876, 0.00286364, 0.00374646, 0.00350732,\n",
            "       0.00327217, 0.00376638, 0.00333793, 0.00216617, 0.00205258,\n",
            "       0.00171181, 0.00149459, 0.00169388, 0.0016042 , 0.00143083,\n",
            "       0.00154243, 0.0014647 , 0.00150058, 0.00130329, 0.00130528,\n",
            "       0.00114386, 0.00118571, 0.00158427, 0.00159025, 0.00101035,\n",
            "       0.00133119, 0.00129532, 0.00141489, 0.00139695, 0.00132122,\n",
            "       0.00153445, 0.00219207, 0.00225385, 0.00216617, 0.00205457,\n",
            "       0.00114187, 0.00127738, 0.00176562, 0.0014368 , 0.00161815,\n",
            "       0.0019908 , 0.00189714, 0.00195294, 0.00194696, 0.00232559,\n",
            "       0.00203265, 0.0023515 , 0.00226581, 0.00226979, 0.00257668,\n",
            "       0.00264643, 0.00312271, 0.00314064, 0.00305296, 0.00351728,\n",
            "       0.00343957, 0.00299716, 0.00309879, 0.0029314 , 0.00307887])]\n",
            "[0.0032482551975581715]\n",
            "\n",
            "[array([0.00136506, 0.00144876, 0.00286364, 0.00374646, 0.00350732,\n",
            "       0.00327217, 0.00376638, 0.00333793, 0.00216617, 0.00205258,\n",
            "       0.00171181, 0.00149459, 0.00169388, 0.0016042 , 0.00143083,\n",
            "       0.00154243, 0.0014647 , 0.00150058, 0.00130329, 0.00130528,\n",
            "       0.00114386, 0.00118571, 0.00158427, 0.00159025, 0.00101035,\n",
            "       0.00133119, 0.00129532, 0.00141489, 0.00139695, 0.00132122,\n",
            "       0.00153445, 0.00219207, 0.00225385, 0.00216617, 0.00205457,\n",
            "       0.00114187, 0.00127738, 0.00176562, 0.0014368 , 0.00161815,\n",
            "       0.0019908 , 0.00189714, 0.00195294, 0.00194696, 0.00232559,\n",
            "       0.00203265, 0.0023515 , 0.00226581, 0.00226979, 0.00257668,\n",
            "       0.00264643, 0.00312271, 0.00314064, 0.00305296, 0.00351728,\n",
            "       0.00343957, 0.00299716, 0.00309879, 0.0029314 , 0.00307887]), array([0.00144876, 0.00286364, 0.00374646, 0.00350732, 0.00327217,\n",
            "       0.00376638, 0.00333793, 0.00216617, 0.00205258, 0.00171181,\n",
            "       0.00149459, 0.00169388, 0.0016042 , 0.00143083, 0.00154243,\n",
            "       0.0014647 , 0.00150058, 0.00130329, 0.00130528, 0.00114386,\n",
            "       0.00118571, 0.00158427, 0.00159025, 0.00101035, 0.00133119,\n",
            "       0.00129532, 0.00141489, 0.00139695, 0.00132122, 0.00153445,\n",
            "       0.00219207, 0.00225385, 0.00216617, 0.00205457, 0.00114187,\n",
            "       0.00127738, 0.00176562, 0.0014368 , 0.00161815, 0.0019908 ,\n",
            "       0.00189714, 0.00195294, 0.00194696, 0.00232559, 0.00203265,\n",
            "       0.0023515 , 0.00226581, 0.00226979, 0.00257668, 0.00264643,\n",
            "       0.00312271, 0.00314064, 0.00305296, 0.00351728, 0.00343957,\n",
            "       0.00299716, 0.00309879, 0.0029314 , 0.00307887, 0.00324826])]\n",
            "[0.0032482551975581715, 0.0032024225272473655]\n",
            "\n"
          ]
        }
      ]
    },
    {
      "cell_type": "code",
      "source": [
        "#convert the x_train and y_train to numpy array\n",
        "x_train, y_train = np.array(x_train),np.array(y_train)"
      ],
      "metadata": {
        "id": "q3Xm9FSlKIXs"
      },
      "execution_count": 9,
      "outputs": []
    },
    {
      "cell_type": "code",
      "source": [
        "#reshape the data\n",
        "x_train = np.reshape(x_train,(x_train.shape[0], x_train.shape[1],1))\n",
        "x_train.shape"
      ],
      "metadata": {
        "colab": {
          "base_uri": "https://localhost:8080/"
        },
        "id": "XEcFFeF8LgZa",
        "outputId": "b04a7979-9f2d-4890-b4f0-e322bfaa6717"
      },
      "execution_count": 10,
      "outputs": [
        {
          "output_type": "execute_result",
          "data": {
            "text/plain": [
              "(3028, 60, 1)"
            ]
          },
          "metadata": {},
          "execution_count": 10
        }
      ]
    },
    {
      "cell_type": "code",
      "source": [
        "#Build the LSTM model\n",
        "model = Sequential()\n",
        "model.add(LSTM(50, return_sequences=True, input_shape=(x_train.shape[1],1)))\n",
        "model.add(LSTM(50, return_sequences=False))\n",
        "model.add(Dense(25))\n",
        "model.add(Dense(1))"
      ],
      "metadata": {
        "id": "9oUqTatIMmv0"
      },
      "execution_count": 11,
      "outputs": []
    },
    {
      "cell_type": "code",
      "source": [
        "#compile the model\n",
        "model.compile(optimizer=\"adam\", loss=\"mean_squared_error\")"
      ],
      "metadata": {
        "id": "e2jpF4O-PILk"
      },
      "execution_count": 12,
      "outputs": []
    },
    {
      "cell_type": "code",
      "source": [
        "# train the model\n",
        "model.fit(x_train,y_train,batch_size=1,epochs=1)"
      ],
      "metadata": {
        "colab": {
          "base_uri": "https://localhost:8080/"
        },
        "id": "uLmLY0--PoeT",
        "outputId": "0ed996bb-208d-4c82-aa51-2514fc513f4c"
      },
      "execution_count": 13,
      "outputs": [
        {
          "output_type": "stream",
          "name": "stdout",
          "text": [
            "3028/3028 [==============================] - 86s 27ms/step - loss: 1.1369e-04\n"
          ]
        },
        {
          "output_type": "execute_result",
          "data": {
            "text/plain": [
              "<keras.callbacks.History at 0x7fbb5a165d90>"
            ]
          },
          "metadata": {},
          "execution_count": 13
        }
      ]
    },
    {
      "cell_type": "code",
      "source": [
        "#create the testing data set\n",
        "#create a new array containing scaled values from index 3028 to 3860\n",
        "test_data = scaled_data[training_data_len-60: , : ]\n",
        "#create the data set x_test and y_test\n",
        "x_test = []\n",
        "y_test = dataset[training_data_len:, :]\n",
        "\n",
        "for i in range(60,len(test_data)):\n",
        "  x_test.append(test_data[i-60:i,0])"
      ],
      "metadata": {
        "id": "MLrokOXdQReo"
      },
      "execution_count": 17,
      "outputs": []
    },
    {
      "cell_type": "code",
      "source": [
        "#convert the data to a numpy array\n",
        "x_test = np.array(x_test)"
      ],
      "metadata": {
        "id": "C3MXs2_q-s-q"
      },
      "execution_count": 18,
      "outputs": []
    },
    {
      "cell_type": "code",
      "source": [
        "#reshape the data\n",
        "x_test = np.reshape(x_test, (x_test.shape[0], x_test.shape[1],1))"
      ],
      "metadata": {
        "id": "k1MeMJBxALQp"
      },
      "execution_count": 19,
      "outputs": []
    },
    {
      "cell_type": "code",
      "source": [
        "#get the model's predicted values\n",
        "predictions = model.predict(x_test)\n",
        "predictions = scaler.inverse_transform(predictions)"
      ],
      "metadata": {
        "id": "UvB1TS56A5a1"
      },
      "execution_count": 20,
      "outputs": []
    },
    {
      "cell_type": "code",
      "source": [
        "#get the root mean squared error (RMSE)\n",
        "rmse = np.sqrt(np.mean(predictions - y_test)**2)\n",
        "rmse"
      ],
      "metadata": {
        "colab": {
          "base_uri": "https://localhost:8080/"
        },
        "id": "NFywzCIEBquO",
        "outputId": "2c495829-3c03-4835-8784-444ea80bd822"
      },
      "execution_count": 21,
      "outputs": [
        {
          "output_type": "execute_result",
          "data": {
            "text/plain": [
              "6.614758862167752"
            ]
          },
          "metadata": {},
          "execution_count": 21
        }
      ]
    },
    {
      "cell_type": "code",
      "source": [
        "#Plot the data\n",
        "train = data[:training_data_len]\n",
        "valid = data[training_data_len:]\n",
        "valid[\"Predictions\"]= predictions\n",
        "\n",
        "#visualize the data\n",
        "plt.figure(figsize=(16,8))\n",
        "plt.title('Model')\n",
        "plt.xlabel('Data', fontsize= 18)\n",
        "plt.ylabel('Close price USD ($)', fontsize = 18)\n",
        "plt.plot(train['Close'])\n",
        "plt.plot(valid[['Close','Predictions']])\n",
        "plt.legend(['Train','Val','Predictions'], loc=\"lower right\")\n",
        "plt.show()"
      ],
      "metadata": {
        "colab": {
          "base_uri": "https://localhost:8080/",
          "height": 662
        },
        "id": "MF6HiMvTCYeB",
        "outputId": "6de115b5-18a5-4eea-8195-362ffe6273e9"
      },
      "execution_count": 22,
      "outputs": [
        {
          "output_type": "stream",
          "name": "stderr",
          "text": [
            "/usr/local/lib/python3.7/dist-packages/ipykernel_launcher.py:4: SettingWithCopyWarning: \n",
            "A value is trying to be set on a copy of a slice from a DataFrame.\n",
            "Try using .loc[row_indexer,col_indexer] = value instead\n",
            "\n",
            "See the caveats in the documentation: https://pandas.pydata.org/pandas-docs/stable/user_guide/indexing.html#returning-a-view-versus-a-copy\n",
            "  after removing the cwd from sys.path.\n"
          ]
        },
        {
          "output_type": "display_data",
          "data": {
            "text/plain": [
              "<Figure size 1152x576 with 1 Axes>"
            ],
            "image/png": "[encoded data removed]"
          },
          "metadata": {}
        }
      ]
    },
    {
      "cell_type": "code",
      "source": [
        "#show the actual and predicted prices\n",
        "valid"
      ],
      "metadata": {
        "colab": {
          "base_uri": "https://localhost:8080/",
          "height": 455
        },
        "id": "GBYPhYErEnZt",
        "outputId": "700a4707-c443-4fd3-d6fe-6a39b37b705a"
      },
      "execution_count": 23,
      "outputs": [
        {
          "output_type": "execute_result",
          "data": {
            "text/plain": [
              "                 Close  Predictions\n",
              "Date                               \n",
              "2019-04-12   49.717499    48.413029\n",
              "2019-04-15   49.807499    48.510025\n",
              "2019-04-16   49.812500    48.575684\n",
              "2019-04-17   50.782501    48.620026\n",
              "2019-04-18   50.965000    48.787041\n",
              "...                ...          ...\n",
              "2022-04-28  163.639999   149.274353\n",
              "2022-04-29  157.649994   149.068985\n",
              "2022-05-02  157.960007   148.449722\n",
              "2022-05-03  159.479996   147.882248\n",
              "2022-05-04  166.020004   147.642303\n",
              "\n",
              "[772 rows x 2 columns]"
            ],
            "text/html": [
              "\n",
              "  <div id=\"df-0778ed23-2208-4429-b43d-e989aa993405\">\n",
              "    <div class=\"colab-df-container\">\n",
              "      <div>\n",
              "<style scoped>\n",
              "    .dataframe tbody tr th:only-of-type {\n",
              "        vertical-align: middle;\n",
              "    }\n",
              "\n",
              "    .dataframe tbody tr th {\n",
              "        vertical-align: top;\n",
              "    }\n",
              "\n",
              "    .dataframe thead th {\n",
              "        text-align: right;\n",
              "    }\n",
              "</style>\n",
              "<table border=\"1\" class=\"dataframe\">\n",
              "  <thead>\n",
              "    <tr style=\"text-align: right;\">\n",
              "      <th></th>\n",
              "      <th>Close</th>\n",
              "      <th>Predictions</th>\n",
              "    </tr>\n",
              "    <tr>\n",
              "      <th>Date</th>\n",
              "      <th></th>\n",
              "      <th></th>\n",
              "    </tr>\n",
              "  </thead>\n",
              "  <tbody>\n",
              "    <tr>\n",
              "      <th>2019-04-12</th>\n",
              "      <td>49.717499</td>\n",
              "      <td>48.413029</td>\n",
              "    </tr>\n",
              "    <tr>\n",
              "      <th>2019-04-15</th>\n",
              "      <td>49.807499</td>\n",
              "      <td>48.510025</td>\n",
              "    </tr>\n",
              "    <tr>\n",
              "      <th>2019-04-16</th>\n",
              "      <td>49.812500</td>\n",
              "      <td>48.575684</td>\n",
              "    </tr>\n",
              "    <tr>\n",
              "      <th>2019-04-17</th>\n",
              "      <td>50.782501</td>\n",
              "      <td>48.620026</td>\n",
              "    </tr>\n",
              "    <tr>\n",
              "      <th>2019-04-18</th>\n",
              "      <td>50.965000</td>\n",
              "      <td>48.787041</td>\n",
              "    </tr>\n",
              "    <tr>\n",
              "      <th>...</th>\n",
              "      <td>...</td>\n",
              "      <td>...</td>\n",
              "    </tr>\n",
              "    <tr>\n",
              "      <th>2022-04-28</th>\n",
              "      <td>163.639999</td>\n",
              "      <td>149.274353</td>\n",
              "    </tr>\n",
              "    <tr>\n",
              "      <th>2022-04-29</th>\n",
              "      <td>157.649994</td>\n",
              "      <td>149.068985</td>\n",
              "    </tr>\n",
              "    <tr>\n",
              "      <th>2022-05-02</th>\n",
              "      <td>157.960007</td>\n",
              "      <td>148.449722</td>\n",
              "    </tr>\n",
              "    <tr>\n",
              "      <th>2022-05-03</th>\n",
              "      <td>159.479996</td>\n",
              "      <td>147.882248</td>\n",
              "    </tr>\n",
              "    <tr>\n",
              "      <th>2022-05-04</th>\n",
              "      <td>166.020004</td>\n",
              "      <td>147.642303</td>\n",
              "    </tr>\n",
              "  </tbody>\n",
              "</table>\n",
              "<p>772 rows × 2 columns</p>\n",
              "</div>\n",
              "      <button class=\"colab-df-convert\" onclick=\"convertToInteractive('df-0778ed23-2208-4429-b43d-e989aa993405')\"\n",
              "              title=\"Convert this dataframe to an interactive table.\"\n",
              "              style=\"display:none;\">\n",
              "        \n",
              "  <svg xmlns=\"http://www.w3.org/2000/svg\" height=\"24px\"viewBox=\"0 0 24 24\"\n",
              "       width=\"24px\">\n",
              "    <path d=\"M0 0h24v24H0V0z\" fill=\"none\"/>\n",
              "    <path d=\"M18.56 5.44l.94 2.06.94-2.06 2.06-.94-2.06-.94-.94-2.06-.94 2.06-2.06.94zm-11 1L8.5 8.5l.94-2.06 2.06-.94-2.06-.94L8.5 2.5l-.94 2.06-2.06.94zm10 10l.94 2.06.94-2.06 2.06-.94-2.06-.94-.94-2.06-.94 2.06-2.06.94z\"/><path d=\"M17.41 7.96l-1.37-1.37c-.4-.4-.92-.59-1.43-.59-.52 0-1.04.2-1.43.59L10.3 9.45l-7.72 7.72c-.78.78-.78 2.05 0 2.83L4 21.41c.39.39.9.59 1.41.59.51 0 1.02-.2 1.41-.59l7.78-7.78 2.81-2.81c.8-.78.8-2.07 0-2.86zM5.41 20L4 18.59l7.72-7.72 1.47 1.35L5.41 20z\"/>\n",
              "  </svg>\n",
              "      </button>\n",
              "      \n",
              "  <style>\n",
              "    .colab-df-container {\n",
              "      display:flex;\n",
              "      flex-wrap:wrap;\n",
              "      gap: 12px;\n",
              "    }\n",
              "\n",
              "    .colab-df-convert {\n",
              "      background-color: #E8F0FE;\n",
              "      border: none;\n",
              "      border-radius: 50%;\n",
              "      cursor: pointer;\n",
              "      display: none;\n",
              "      fill: #1967D2;\n",
              "      height: 32px;\n",
              "      padding: 0 0 0 0;\n",
              "      width: 32px;\n",
              "    }\n",
              "\n",
              "    .colab-df-convert:hover {\n",
              "      background-color: #E2EBFA;\n",
              "      box-shadow: 0px 1px 2px rgba(60, 64, 67, 0.3), 0px 1px 3px 1px rgba(60, 64, 67, 0.15);\n",
              "      fill: #174EA6;\n",
              "    }\n",
              "\n",
              "    [theme=dark] .colab-df-convert {\n",
              "      background-color: #3B4455;\n",
              "      fill: #D2E3FC;\n",
              "    }\n",
              "\n",
              "    [theme=dark] .colab-df-convert:hover {\n",
              "      background-color: #434B5C;\n",
              "      box-shadow: 0px 1px 3px 1px rgba(0, 0, 0, 0.15);\n",
              "      filter: drop-shadow(0px 1px 2px rgba(0, 0, 0, 0.3));\n",
              "      fill: #FFFFFF;\n",
              "    }\n",
              "  </style>\n",
              "\n",
              "      <script>\n",
              "        const buttonEl =\n",
              "          document.querySelector('#df-0778ed23-2208-4429-b43d-e989aa993405 button.colab-df-convert');\n",
              "        buttonEl.style.display =\n",
              "          google.colab.kernel.accessAllowed ? 'block' : 'none';\n",
              "\n",
              "        async function convertToInteractive(key) {\n",
              "          const element = document.querySelector('#df-0778ed23-2208-4429-b43d-e989aa993405');\n",
              "          const dataTable =\n",
              "            await google.colab.kernel.invokeFunction('convertToInteractive',\n",
              "                                                     [key], {});\n",
              "          if (!dataTable) return;\n",
              "\n",
              "          const docLinkHtml = 'Like what you see? Visit the ' +\n",
              "            '<a target=\"_blank\" href=https://colab.research.google.com/notebooks/data_table.ipynb>data table notebook</a>'\n",
              "            + ' to learn more about interactive tables.';\n",
              "          element.innerHTML = '';\n",
              "          dataTable['output_type'] = 'display_data';\n",
              "          await google.colab.output.renderOutput(dataTable, element);\n",
              "          const docLink = document.createElement('div');\n",
              "          docLink.innerHTML = docLinkHtml;\n",
              "          element.appendChild(docLink);\n",
              "        }\n",
              "      </script>\n",
              "    </div>\n",
              "  </div>\n",
              "  "
            ]
          },
          "metadata": {},
          "execution_count": 23
        }
      ]
    },
    {
      "cell_type": "code",
      "source": [
        ""
      ],
      "metadata": {
        "id": "x-hf-UZ-FMYZ"
      },
      "execution_count": null,
      "outputs": []
    }
  ]
}